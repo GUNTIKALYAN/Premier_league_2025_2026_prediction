{
 "cells": [
  {
   "cell_type": "code",
   "execution_count": 34,
   "id": "c632abd5",
   "metadata": {},
   "outputs": [],
   "source": [
    "import pandas as pd\n",
    "from sklearn.ensemble import RandomForestRegressor\n",
    "from sklearn.tree import DecisionTreeRegressor\n",
    "from xgboost import XGBRegressor\n",
    "from sklearn.model_selection import GridSearchCV,StratifiedKFold\n",
    "from sklearn.preprocessing import LabelEncoder\n",
    "from sklearn.metrics import mean_squared_error, r2_score,accuracy_score,classification_report\n",
    "from sklearn.model_selection import train_test_split\n",
    "import numpy as np"
   ]
  },
  {
   "cell_type": "code",
   "execution_count": 35,
   "id": "e06f9426",
   "metadata": {},
   "outputs": [
    {
     "name": "stdout",
     "output_type": "stream",
     "text": [
      "📊 Dataset loaded successfully!\n",
      "Total records: 60\n",
      "Teams: 24, Seasons: 3\n"
     ]
    }
   ],
   "source": [
    "df = pd.read_csv(\"data/premier_league_standings_2022_2025.csv\")\n",
    "print(\"📊 Dataset loaded successfully!\")\n",
    "print(f\"Total records: {len(df)}\")\n",
    "print(f\"Teams: {df['Team'].nunique()}, Seasons: {df['Season'].nunique()}\")"
   ]
  },
  {
   "cell_type": "code",
   "execution_count": 36,
   "id": "68529d74",
   "metadata": {},
   "outputs": [
    {
     "name": "stdout",
     "output_type": "stream",
     "text": [
      "\n",
      "Training data: 36 records (after removing last season data)\n"
     ]
    }
   ],
   "source": [
    "# Create target variable (Next Season Points)\n",
    "\n",
    "df = df.sort_values([\"Team\", \"Season\"])\n",
    "df[\"PointsNext\"] = df.groupby(\"Team\")[\"Points\"].shift(-1)  # target: next season points\n",
    "\n",
    "# Remove rows without target (last season for each team)\n",
    "train_df = df[df[\"PointsNext\"].notnull()].copy()\n",
    "\n",
    "print(f\"\\nTraining data: {len(train_df)} records (after removing last season data)\")"
   ]
  },
  {
   "cell_type": "code",
   "execution_count": 37,
   "id": "493f6389",
   "metadata": {},
   "outputs": [],
   "source": [
    "# -------------------\n",
    "#  Feature Engineering & Encoding\n",
    "# -------------------\n",
    "# Encode Teams\n",
    "le = LabelEncoder()\n",
    "train_df[\"TeamCode\"] = le.fit_transform(train_df[\"Team\"])\n",
    "\n",
    "# Create additional features for better prediction\n",
    "train_df[\"AttackRate\"] = train_df[\"GoalsFor\"] / train_df[\"Matches\"]  # Goals per match\n",
    "train_df[\"DefenseRate\"] = train_df[\"GoalsAgainst\"] / train_df[\"Matches\"]  # Conceded per match\n",
    "train_df[\"PointsPerMatch\"] = train_df[\"Points\"] / train_df[\"Matches\"]  # Points per match\n",
    "train_df[\"GoalRatio\"] = train_df[\"GoalsFor\"] / (train_df[\"GoalsAgainst\"] + 1)  # Attack/Defense ratio"
   ]
  },
  {
   "cell_type": "code",
   "execution_count": 38,
   "id": "641beb0e",
   "metadata": {},
   "outputs": [
    {
     "name": "stdout",
     "output_type": "stream",
     "text": [
      "\n",
      "Features used: ['Points', 'GoalDiff', 'GoalsFor', 'GoalsAgainst', 'TeamCode', 'AttackRate', 'DefenseRate', 'PointsPerMatch', 'GoalRatio']\n",
      "Target: PointsNext\n"
     ]
    }
   ],
   "source": [
    "# -------------------\n",
    "#  Features & Target Selection\n",
    "# -------------------\n",
    "features = [\n",
    "    \"Points\", \"GoalDiff\", \"GoalsFor\", \"GoalsAgainst\", \n",
    "    \"TeamCode\", \"AttackRate\", \"DefenseRate\", \"PointsPerMatch\", \"GoalRatio\"\n",
    "]\n",
    "target = \"PointsNext\"\n",
    "\n",
    "X = train_df[features]\n",
    "y = train_df[target]\n",
    "\n",
    "print(f\"\\nFeatures used: {features}\")\n",
    "print(f\"Target: {target}\")"
   ]
  },
  {
   "cell_type": "code",
   "execution_count": 39,
   "id": "7a04104a",
   "metadata": {},
   "outputs": [
    {
     "name": "stdout",
     "output_type": "stream",
     "text": [
      "\n",
      "Train size: 25, Test size: 11\n"
     ]
    }
   ],
   "source": [
    "# -------------------\n",
    "#  Split data for proper evaluation\n",
    "# -------------------\n",
    "X_train, X_test, y_train, y_test = train_test_split(\n",
    "    X, y, test_size=0.3, random_state=42\n",
    ")\n",
    "\n",
    "print(f\"\\nTrain size: {len(X_train)}, Test size: {len(X_test)}\")"
   ]
  },
  {
   "cell_type": "code",
   "execution_count": 40,
   "id": "d5827c91",
   "metadata": {},
   "outputs": [
    {
     "name": "stdout",
     "output_type": "stream",
     "text": [
      "\n",
      " Training Random Forest...\n"
     ]
    }
   ],
   "source": [
    "# -------------------\n",
    "#  Train Random Forest\n",
    "# -------------------\n",
    "print(\"\\n Training Random Forest...\")\n",
    "rf_model = RandomForestRegressor(\n",
    "    n_estimators=300, \n",
    "    max_depth=10,\n",
    "    min_samples_split=3,\n",
    "    random_state=42\n",
    ")\n",
    "rf_model.fit(X_train, y_train)\n",
    "\n",
    "# Predictions\n",
    "rf_train_pred = rf_model.predict(X_train)\n",
    "rf_test_pred = rf_model.predict(X_test)\n",
    "\n",
    "# Metrics\n",
    "rf_train_rmse = np.sqrt(mean_squared_error(y_train, rf_train_pred))\n",
    "rf_test_rmse = np.sqrt(mean_squared_error(y_test, rf_test_pred))\n",
    "rf_r2 = r2_score(y_test, rf_test_pred)"
   ]
  },
  {
   "cell_type": "code",
   "execution_count": 41,
   "id": "2140c157",
   "metadata": {},
   "outputs": [
    {
     "name": "stdout",
     "output_type": "stream",
     "text": [
      " Training XGBoost...\n"
     ]
    }
   ],
   "source": [
    "# -------------------\n",
    "#  Train XGBoost\n",
    "# -------------------\n",
    "print(\" Training XGBoost...\")\n",
    "xgb_model = XGBRegressor(\n",
    "    n_estimators=300,\n",
    "    max_depth=6,\n",
    "    learning_rate=0.1,\n",
    "    subsample=0.8,\n",
    "    random_state=42,\n",
    "    objective='reg:squarederror'\n",
    ")\n",
    "xgb_model.fit(X_train, y_train)\n",
    "\n",
    "# Predictions\n",
    "xgb_train_pred = xgb_model.predict(X_train)\n",
    "xgb_test_pred = xgb_model.predict(X_test)\n",
    "\n",
    "# Metrics\n",
    "xgb_train_rmse = np.sqrt(mean_squared_error(y_train, xgb_train_pred))\n",
    "xgb_test_rmse = np.sqrt(mean_squared_error(y_test, xgb_test_pred))\n",
    "xgb_r2 = r2_score(y_test, xgb_test_pred)"
   ]
  },
  {
   "cell_type": "code",
   "execution_count": 42,
   "id": "f06dc5bb",
   "metadata": {},
   "outputs": [
    {
     "name": "stdout",
     "output_type": "stream",
     "text": [
      "\n",
      "==================================================\n",
      " MODEL PERFORMANCE COMPARISON\n",
      "==================================================\n",
      "Random Forest:\n",
      "  Train RMSE: 7.52\n",
      "  Test RMSE:  12.84\n",
      "  R² Score:   0.167\n",
      "\n",
      "XGBoost:\n",
      "  Train RMSE: 0.00\n",
      "  Test RMSE:  12.97\n",
      "  R² Score:   0.150\n",
      "\n",
      " Best model: Random Forest\n",
      "   Test RMSE: 12.84\n",
      "   R² Score: 0.167\n"
     ]
    }
   ],
   "source": [
    "# -------------------\n",
    "#  Model Comparison\n",
    "# -------------------\n",
    "print(\"\\n\" + \"=\"*50)\n",
    "print(\" MODEL PERFORMANCE COMPARISON\")\n",
    "print(\"=\"*50)\n",
    "print(f\"Random Forest:\")\n",
    "print(f\"  Train RMSE: {rf_train_rmse:.2f}\")\n",
    "print(f\"  Test RMSE:  {rf_test_rmse:.2f}\")\n",
    "print(f\"  R² Score:   {rf_r2:.3f}\")\n",
    "print(f\"\\nXGBoost:\")\n",
    "print(f\"  Train RMSE: {xgb_train_rmse:.2f}\")\n",
    "print(f\"  Test RMSE:  {xgb_test_rmse:.2f}\")\n",
    "print(f\"  R² Score:   {xgb_r2:.3f}\")\n",
    "\n",
    "# Choose the best model based on test performance\n",
    "best_model = rf_model if rf_test_rmse < xgb_test_rmse else xgb_model\n",
    "best_name = 'Random Forest' if best_model == rf_model else 'XGBoost'\n",
    "best_rmse = rf_test_rmse if best_model == rf_model else xgb_test_rmse\n",
    "best_r2 = rf_r2 if best_model == rf_model else xgb_r2\n",
    "\n",
    "print(f\"\\n Best model: {best_name}\")\n",
    "print(f\"   Test RMSE: {best_rmse:.2f}\")\n",
    "print(f\"   R² Score: {best_r2:.3f}\")"
   ]
  },
  {
   "cell_type": "code",
   "execution_count": 43,
   "id": "bfb4ce0f",
   "metadata": {},
   "outputs": [
    {
     "name": "stdout",
     "output_type": "stream",
     "text": [
      "\n",
      " Random Forest - Top Feature Importances:\n",
      "  GoalsFor: 0.156\n",
      "  AttackRate: 0.147\n",
      "  Points: 0.134\n",
      "  PointsPerMatch: 0.127\n",
      "  GoalRatio: 0.116\n"
     ]
    }
   ],
   "source": [
    "# -------------------\n",
    "#  Feature Importance\n",
    "# -------------------\n",
    "print(f\"\\n {best_name} - Top Feature Importances:\")\n",
    "if hasattr(best_model, 'feature_importances_'):\n",
    "    feature_importance = pd.DataFrame({\n",
    "        'feature': features,\n",
    "        'importance': best_model.feature_importances_\n",
    "    }).sort_values('importance', ascending=False)\n",
    "    \n",
    "    for idx, row in feature_importance.head(5).iterrows():\n",
    "        print(f\"  {row['feature']}: {row['importance']:.3f}\")\n"
   ]
  },
  {
   "cell_type": "code",
   "execution_count": 44,
   "id": "199eed0d",
   "metadata": {},
   "outputs": [
    {
     "name": "stdout",
     "output_type": "stream",
     "text": [
      "\n",
      "==================================================\n",
      " PREDICTING 2025/26 SEASON\n",
      "==================================================\n"
     ]
    }
   ],
   "source": [
    "# -------------------\n",
    "#  Predict Next Season (2025/26)\n",
    "# -------------------\n",
    "print(\"\\n\" + \"=\"*50)\n",
    "print(\" PREDICTING 2025/26 SEASON\")\n",
    "print(\"=\"*50)\n",
    "\n",
    "# Get last season data (2024/25) for all teams\n",
    "last_season = df[df[\"Season\"] == \"2024/25\"].copy()\n",
    "\n",
    "# Encode teams (handle new teams that might not be in training data)\n",
    "known_teams = set(le.classes_)\n",
    "prediction_teams = []\n",
    "\n",
    "for team in last_season[\"Team\"]:\n",
    "    if team in known_teams:\n",
    "        prediction_teams.append(team)\n",
    "\n",
    "last_season_filtered = last_season[last_season[\"Team\"].isin(prediction_teams)].copy()\n",
    "last_season_filtered[\"TeamCode\"] = le.transform(last_season_filtered[\"Team\"])\n",
    "\n",
    "# Create same features as training\n",
    "last_season_filtered[\"AttackRate\"] = last_season_filtered[\"GoalsFor\"] / last_season_filtered[\"Matches\"]\n",
    "last_season_filtered[\"DefenseRate\"] = last_season_filtered[\"GoalsAgainst\"] / last_season_filtered[\"Matches\"]\n",
    "last_season_filtered[\"PointsPerMatch\"] = last_season_filtered[\"Points\"] / last_season_filtered[\"Matches\"]\n",
    "last_season_filtered[\"GoalRatio\"] = last_season_filtered[\"GoalsFor\"] / (last_season_filtered[\"GoalsAgainst\"] + 1)\n",
    "\n",
    "X_pred = last_season_filtered[features]\n",
    "predictions = best_model.predict(X_pred)\n",
    "last_season_filtered[\"PredictedPoints\"] = predictions"
   ]
  },
  {
   "cell_type": "code",
   "execution_count": 45,
   "id": "dbc9cb3c",
   "metadata": {},
   "outputs": [
    {
     "name": "stdout",
     "output_type": "stream",
     "text": [
      " PREDICTED PREMIER LEAGUE TABLE 2025/26 \n",
      "-------------------------------------------------------\n",
      "Pos  Team            Current  Predicted  Change  \n",
      "-------------------------------------------------------\n",
      "1    Liverpool       84       81.8       -2      \n",
      "2    Man City        71       74.3       +3      \n",
      "3    Arsenal         74       69.0       -5      \n",
      "4    Newcastle       66       64.4       -2      \n",
      "5    Chelsea         69       63.4       -6      \n",
      "6    Nottingham      65       60.4       -5      \n",
      "7    Aston Villa     66       60.0       -6      \n",
      "8    Brighton Hove   61       56.4       -5      \n",
      "9    Everton         48       54.2       +6      \n",
      "10   Man United      42       53.1       +11     \n",
      "11   Crystal Palace  53       51.4       -2      \n",
      "12   West Ham        43       49.2       +6      \n",
      "13   Fulham          54       48.4       -6      \n",
      "14   Tottenham       38       48.3       +10     \n",
      "15   Bournemouth     56       47.9       -8      \n",
      "16   Brentford       56       46.1       -10     \n",
      "17   Wolverhampton   42       38.2       -4      \n",
      "18   Leicester City  25       17.8       -7      \n",
      "19   Southampton     12       8.4        -4      \n"
     ]
    }
   ],
   "source": [
    "# -------------------\n",
    "#  Results\n",
    "# -------------------\n",
    "# Sort by predicted points\n",
    "results = last_season_filtered.sort_values(\"PredictedPoints\", ascending=False)\n",
    "\n",
    "print(\" PREDICTED PREMIER LEAGUE TABLE 2025/26 \")\n",
    "print(\"-\" * 55)\n",
    "print(f\"{'Pos':<4} {'Team':<15} {'Current':<8} {'Predicted':<10} {'Change':<8}\")\n",
    "print(\"-\" * 55)\n",
    "\n",
    "for i, (_, row) in enumerate(results.iterrows(), 1):\n",
    "    current_points = row[\"Points\"]\n",
    "    predicted_points = row[\"PredictedPoints\"]\n",
    "    change = predicted_points - current_points\n",
    "    change_str = f\"{change:+.0f}\"\n",
    "    \n",
    "    print(f\"{i:<4} {row['Team']:<15} {current_points:<8.0f} {predicted_points:<10.1f} {change_str:<8}\")"
   ]
  },
  {
   "cell_type": "code",
   "execution_count": 46,
   "id": "01c1a8dc",
   "metadata": {},
   "outputs": [
    {
     "name": "stdout",
     "output_type": "stream",
     "text": [
      "\n",
      " PREDICTED TOP 3 FOR 2025/26:\n",
      "🥇 1. Liverpool       - 81.8 points\n",
      "🥈 2. Man City        - 74.3 points\n",
      "🥉 3. Arsenal         - 69.0 points\n"
     ]
    }
   ],
   "source": [
    "# Top 3 teams\n",
    "print(f\"\\n PREDICTED TOP 3 FOR 2025/26:\")\n",
    "top3 = results.head(3)\n",
    "for i, (_, row) in enumerate(top3.iterrows(), 1):\n",
    "    medal = \"🥇\" if i == 1 else \"🥈\" if i == 2 else \"🥉\"\n",
    "    print(f\"{medal} {i}. {row['Team']:<15} - {row['PredictedPoints']:.1f} points\")"
   ]
  },
  {
   "cell_type": "code",
   "execution_count": 47,
   "id": "352fd6ae",
   "metadata": {},
   "outputs": [
    {
     "name": "stdout",
     "output_type": "stream",
     "text": [
      "\n",
      "  PREDICTED RELEGATION ZONE:\n",
      "18. Southampton     - 8.4 points\n",
      "19. Leicester City  - 17.8 points\n",
      "20. Wolverhampton   - 38.2 points\n"
     ]
    }
   ],
   "source": [
    "# Bottom 3 teams (relegation zone)\n",
    "print(f\"\\n  PREDICTED RELEGATION ZONE:\")\n",
    "bottom3 = results.tail(3)\n",
    "for i, (_, row) in enumerate(reversed(list(bottom3.iterrows())), 18):\n",
    "    print(f\"{i}. {row['Team']:<15} - {row['PredictedPoints']:.1f} points\")"
   ]
  },
  {
   "cell_type": "code",
   "execution_count": 48,
   "id": "5a87aa5d",
   "metadata": {},
   "outputs": [
    {
     "name": "stdout",
     "output_type": "stream",
     "text": [
      "\n",
      "==================================================\n",
      " ANALYSIS COMPLETE!\n",
      " Best Model: Random Forest (RMSE: 12.84)\n",
      " Predictions for 19 teams\n",
      "==================================================\n"
     ]
    }
   ],
   "source": [
    "print(\"\\n\" + \"=\"*50)\n",
    "print(\" ANALYSIS COMPLETE!\")\n",
    "print(f\" Best Model: {best_name} (RMSE: {best_rmse:.2f})\")\n",
    "print(f\" Predictions for {len(prediction_teams)} teams\")\n",
    "print(\"=\"*50)"
   ]
  },
  {
   "cell_type": "markdown",
   "id": "063abb21",
   "metadata": {},
   "source": [
    "### Using Grid Search CV for best model and params"
   ]
  },
  {
   "cell_type": "code",
   "execution_count": 49,
   "id": "771eae46",
   "metadata": {},
   "outputs": [],
   "source": [
    "model_params = {\n",
    "    'decision_tree': {\n",
    "        'model': DecisionTreeRegressor(),\n",
    "        'params': {\n",
    "            'max_depth': [5, 10, None],\n",
    "            'criterion': ['squared_error', 'friedman_mse']\n",
    "        }\n",
    "    },\n",
    "    'random_forest': {\n",
    "        'model': RandomForestRegressor(),\n",
    "        'params': {\n",
    "            'n_estimators': [100, 200],\n",
    "            'max_depth': [5, 10, None]\n",
    "        }\n",
    "    },\n",
    "    'xgboost': {\n",
    "        'model': XGBRegressor(objective='reg:squarederror'),\n",
    "        'params': {\n",
    "            'n_estimators': [100, 200],\n",
    "            'max_depth': [3, 5, 10],\n",
    "            'learning_rate': [0.01, 0.1, 0.2]\n",
    "        }\n",
    "    }\n",
    "}\n"
   ]
  },
  {
   "cell_type": "code",
   "execution_count": 69,
   "id": "cecfb6b6",
   "metadata": {},
   "outputs": [
    {
     "name": "stdout",
     "output_type": "stream",
     "text": [
      "\n",
      "Model Comparison:\n",
      "           model  best_score                                        best_params\n",
      "0  decision_tree   -1.115140     {'criterion': 'friedman_mse', 'max_depth': 10}\n",
      "1  random_forest    0.078804             {'max_depth': 10, 'n_estimators': 100}\n",
      "2        xgboost   -0.098351  {'learning_rate': 0.01, 'max_depth': 3, 'n_est...\n",
      "\n",
      "✅ Best Model Selected: RandomForestRegressor(max_depth=10)\n"
     ]
    }
   ],
   "source": [
    "scores = []\n",
    "best_model = None\n",
    "best_score = -float(\"inf\")\n",
    "\n",
    "for model_name, mp in model_params.items():\n",
    "    clf = GridSearchCV(mp['model'], mp['params'], cv=3, scoring='r2', return_train_score=False)\n",
    "    clf.fit(X_train, y_train)   # y_train should be points/target values\n",
    "    \n",
    "    scores.append({\n",
    "        'model': model_name,\n",
    "        'best_score': clf.best_score_,\n",
    "        'best_params': clf.best_params_\n",
    "    })\n",
    "    \n",
    "    if clf.best_score_ > best_score:\n",
    "        best_score = clf.best_score_\n",
    "        best_model = clf.best_estimator_\n",
    "\n",
    "scores_df = pd.DataFrame(scores, columns=[\"model\", \"best_score\", \"best_params\"])\n",
    "print(\"\\nModel Comparison:\")\n",
    "print(scores_df)\n",
    "\n",
    "print(f\"\\n✅ Best Model Selected: {best_model}\")\n"
   ]
  },
  {
   "cell_type": "code",
   "execution_count": 71,
   "id": "2119b4dc",
   "metadata": {},
   "outputs": [
    {
     "name": "stdout",
     "output_type": "stream",
     "text": [
      " PREDICTING 2025/26 SEASON\n"
     ]
    }
   ],
   "source": [
    "print(\" PREDICTING 2025/26 SEASON\")\n",
    "last_season = df[df[\"Season\"] == \"2024/25\"].copy()"
   ]
  },
  {
   "cell_type": "code",
   "execution_count": 72,
   "id": "4b100ae5",
   "metadata": {},
   "outputs": [],
   "source": [
    "# Encode teams (handle new teams that might not be in training data)\n",
    "known_teams = set(le.classes_)\n",
    "last_season_filtered = last_season[last_season[\"Team\"].isin(known_teams)].copy()\n",
    "last_season_filtered[\"TeamCode\"] = le.transform(last_season_filtered[\"Team\"])"
   ]
  },
  {
   "cell_type": "code",
   "execution_count": 73,
   "id": "f90a7004",
   "metadata": {},
   "outputs": [],
   "source": [
    "# Create same features as training\n",
    "last_season_filtered[\"AttackRate\"] = last_season_filtered[\"GoalsFor\"] / last_season_filtered[\"Matches\"]\n",
    "last_season_filtered[\"DefenseRate\"] = last_season_filtered[\"GoalsAgainst\"] / last_season_filtered[\"Matches\"]\n",
    "last_season_filtered[\"PointsPerMatch\"] = last_season_filtered[\"Points\"] / last_season_filtered[\"Matches\"]\n",
    "last_season_filtered[\"GoalRatio\"] = last_season_filtered[\"GoalsFor\"] / (last_season_filtered[\"GoalsAgainst\"] + 1)\n"
   ]
  },
  {
   "cell_type": "code",
   "execution_count": 74,
   "id": "0406b99f",
   "metadata": {},
   "outputs": [],
   "source": [
    "X_pred = last_season_filtered[features]\n",
    "predictions = best_model.predict(X_pred)\n",
    "last_season_filtered[\"PredictedPoints\"] = predictions"
   ]
  },
  {
   "cell_type": "code",
   "execution_count": 77,
   "id": "30b051d8",
   "metadata": {},
   "outputs": [
    {
     "name": "stdout",
     "output_type": "stream",
     "text": [
      " PREDICTED PREMIER LEAGUE TABLE 2025/26 \n",
      "-------------------------------------------------------\n",
      "Pos  Team            Current  Predicted  Change  \n",
      "-------------------------------------------------------\n",
      "1    Liverpool       84       82.0       -2      \n",
      "2    Man City        71       74.8       +4      \n",
      "3    Arsenal         74       68.9       -5      \n",
      "4    Newcastle       66       65.0       -1      \n",
      "5    Chelsea         69       64.2       -5      \n",
      "6    Nottingham      65       60.4       -5      \n",
      "7    Aston Villa     66       59.3       -7      \n",
      "8    Brighton Hove   61       57.0       -4      \n",
      "9    Everton         48       53.0       +5      \n",
      "10   Man United      42       52.4       +10     \n",
      "11   West Ham        43       50.9       +8      \n",
      "12   Crystal Palace  53       50.3       -3      \n",
      "13   Tottenham       38       49.0       +11     \n",
      "14   Fulham          54       48.2       -6      \n",
      "15   Bournemouth     56       47.0       -9      \n",
      "16   Brentford       56       45.6       -10     \n",
      "17   Wolverhampton   42       41.1       -1      \n",
      "18   Leicester City  25       14.7       -10     \n",
      "19   Southampton     12       7.9        -4      \n"
     ]
    }
   ],
   "source": [
    "results_1 = last_season_filtered.sort_values(\"PredictedPoints\", ascending=False)\n",
    "\n",
    "print(\" PREDICTED PREMIER LEAGUE TABLE 2025/26 \")\n",
    "print(\"-\" * 55)\n",
    "print(f\"{'Pos':<4} {'Team':<15} {'Current':<8} {'Predicted':<10} {'Change':<8}\")\n",
    "print(\"-\" * 55)\n",
    "for i, (_, row) in enumerate(results_1.iterrows(), 1):\n",
    "    current_points = row[\"Points\"]\n",
    "    predicted_points = row[\"PredictedPoints\"]\n",
    "    change = predicted_points - current_points\n",
    "    change_str = f\"{change:+.0f}\"\n",
    "    print(f\"{i:<4} {row['Team']:<15} {current_points:<8.0f} {predicted_points:<10.1f} {change_str:<8}\")\n"
   ]
  },
  {
   "cell_type": "code",
   "execution_count": 78,
   "id": "6556c5d6",
   "metadata": {},
   "outputs": [
    {
     "name": "stdout",
     "output_type": "stream",
     "text": [
      "\n",
      " PREDICTED TOP 3 FOR 2025/26:\n",
      "🥇 1. Liverpool       - 82.0 points\n",
      "🥈 2. Man City        - 74.8 points\n",
      "🥉 3. Arsenal         - 68.9 points\n"
     ]
    }
   ],
   "source": [
    "# Top 3 teams\n",
    "print(f\"\\n PREDICTED TOP 3 FOR 2025/26:\")\n",
    "top3 = results_1.head(3)\n",
    "for i, (_, row) in enumerate(top3.iterrows(), 1):\n",
    "    medal = \"🥇\" if i == 1 else \"🥈\" if i == 2 else \"🥉\"\n",
    "    print(f\"{medal} {i}. {row['Team']:<15} - {row['PredictedPoints']:.1f} points\")"
   ]
  },
  {
   "cell_type": "code",
   "execution_count": 79,
   "id": "b127eeac",
   "metadata": {},
   "outputs": [
    {
     "name": "stdout",
     "output_type": "stream",
     "text": [
      "\n",
      "  PREDICTED RELEGATION ZONE:\n",
      "18. Southampton     - 7.9 points\n",
      "19. Leicester City  - 14.7 points\n",
      "20. Wolverhampton   - 41.1 points\n"
     ]
    }
   ],
   "source": [
    "# Bottom 3 teams (relegation zone)\n",
    "print(f\"\\n  PREDICTED RELEGATION ZONE:\")\n",
    "bottom3 = results_1.tail(3)\n",
    "for i, (_, row) in enumerate(reversed(list(bottom3.iterrows())), 18):\n",
    "    print(f\"{i}. {row['Team']:<15} - {row['PredictedPoints']:.1f} points\")"
   ]
  },
  {
   "cell_type": "code",
   "execution_count": null,
   "id": "d19cae01",
   "metadata": {},
   "outputs": [],
   "source": []
  }
 ],
 "metadata": {
  "kernelspec": {
   "display_name": "base",
   "language": "python",
   "name": "python3"
  },
  "language_info": {
   "codemirror_mode": {
    "name": "ipython",
    "version": 3
   },
   "file_extension": ".py",
   "mimetype": "text/x-python",
   "name": "python",
   "nbconvert_exporter": "python",
   "pygments_lexer": "ipython3",
   "version": "3.12.4"
  }
 },
 "nbformat": 4,
 "nbformat_minor": 5
}
